{
 "cells": [
  {
   "cell_type": "code",
   "execution_count": 1,
   "id": "cf0a3523",
   "metadata": {},
   "outputs": [
    {
     "name": "stdout",
     "output_type": "stream",
     "text": [
      "AbCdE\n"
     ]
    }
   ],
   "source": [
    "# input > \"abcde\" output > \"AbCdE\"\n",
    "a=\"abcde\"\n",
    "b=\"\"\n",
    "x=0\n",
    "while x<len(a):\n",
    "    if x%2==0:\n",
    "        b=b+a[x].upper()\n",
    "    else:\n",
    "        b=b+a[x].lower()\n",
    "    x=x+1\n",
    "\n",
    "print(b)"
   ]
  },
  {
   "cell_type": "code",
   "execution_count": 2,
   "id": "6c7f2dcf",
   "metadata": {},
   "outputs": [
    {
     "name": "stdout",
     "output_type": "stream",
     "text": [
      "a is <class 'str'>\n",
      "1.2 is <class 'float'>\n",
      "322 is <class 'int'>\n",
      "abc is <class 'str'>\n",
      "(2+2j) is <class 'complex'>\n"
     ]
    }
   ],
   "source": [
    "# input  > x= [\"a\",1.2,322,\"abc\",a+2j]\n",
    "# output > data type in every new line\n",
    "\n",
    "x=[\"a\",1.2,322,\"abc\",2+2j]\n",
    "a=0\n",
    "\n",
    "while a<len(x):\n",
    "    print(\"{} is {}\".format(x[a],type(x[a])))\n",
    "    a=a+1"
   ]
  },
  {
   "cell_type": "code",
   "execution_count": 3,
   "id": "553c8034",
   "metadata": {},
   "outputs": [
    {
     "name": "stdout",
     "output_type": "stream",
     "text": [
      "abde\n",
      "9\n"
     ]
    }
   ],
   "source": [
    "# x=['a','b',1,2,3,'d,'e,3]  output= 'abde' 1+2+3+4=10\n",
    "x=[\"a\",\"b\",1,2,3,\"d\",\"e\",3]\n",
    "a=0\n",
    "strn=\"\"\n",
    "numr=0\n",
    "\n",
    "while a<len(x):\n",
    "    if str(x[a]).isalpha():\n",
    "        strn=strn+x[a]\n",
    "    elif str(x[a]).isnumeric():\n",
    "        numr=numr+x[a]\n",
    "    a=a+1\n",
    "print(strn)\n",
    "print(numr)"
   ]
  },
  {
   "cell_type": "code",
   "execution_count": 4,
   "id": "f50811e6",
   "metadata": {},
   "outputs": [
    {
     "name": "stdout",
     "output_type": "stream",
     "text": [
      "['a', 'b', 'c', 'd', 'e', 'f']\n",
      "['1', '2', '3']\n"
     ]
    }
   ],
   "source": [
    "# we have a string 'abcd123ef' output all the numbers in one list , alphabets in one list\n",
    "\n",
    "x=\"abcd123ef\"\n",
    "a=0\n",
    "stringg=[]\n",
    "numberr=[]\n",
    "\n",
    "while a<len(x):\n",
    "    if str(x[a]).isalpha():\n",
    "        stringg=stringg+list(x[a])\n",
    "    elif str(x[a]).isnumeric():\n",
    "        numberr.extend(x[a])\n",
    "    a=a+1\n",
    "    \n",
    "print(stringg)\n",
    "print(numberr)\n",
    "\n"
   ]
  },
  {
   "cell_type": "code",
   "execution_count": 5,
   "id": "d994c13c",
   "metadata": {},
   "outputs": [
    {
     "name": "stdout",
     "output_type": "stream",
     "text": [
      "{1, 2, 3, 'a', 6, 'b', 'd'}\n"
     ]
    }
   ],
   "source": [
    "# create two list l1=[1,2,3,'a','b'],l2=[6,1,3,'a','d'] output= create a list to get common elements\n",
    "\n",
    "l1=[1,2,3,'a','b']\n",
    "l2=[6,1,3,'a','d']\n",
    "\n",
    "l3={}\n",
    "l4=set(l3).union(l1,l2)\n",
    "print(l4)"
   ]
  },
  {
   "cell_type": "code",
   "execution_count": 3,
   "id": "a2614ce7",
   "metadata": {},
   "outputs": [
    {
     "name": "stdout",
     "output_type": "stream",
     "text": [
      "pls enter number :1\n",
      "mathematical operation ( +,-,/,*):*\n",
      "pls enter number :3\n",
      "3\n",
      "pls enter number :stop\n",
      "mathematical operation ( +,-,/,*):*\n",
      "pls enter number :*\n"
     ]
    },
    {
     "ename": "ValueError",
     "evalue": "invalid literal for int() with base 10: 'stop'",
     "output_type": "error",
     "traceback": [
      "\u001b[1;31m---------------------------------------------------------------------------\u001b[0m",
      "\u001b[1;31mValueError\u001b[0m                                Traceback (most recent call last)",
      "Input \u001b[1;32mIn [3]\u001b[0m, in \u001b[0;36m<cell line: 4>\u001b[1;34m()\u001b[0m\n\u001b[0;32m     14\u001b[0m     \u001b[38;5;28mprint\u001b[39m(\u001b[38;5;28mint\u001b[39m(a)\u001b[38;5;241m/\u001b[39m\u001b[38;5;28mint\u001b[39m(c))\n\u001b[0;32m     15\u001b[0m \u001b[38;5;28;01melif\u001b[39;00m b \u001b[38;5;241m==\u001b[39m \u001b[38;5;124m\"\u001b[39m\u001b[38;5;124m*\u001b[39m\u001b[38;5;124m\"\u001b[39m: \n\u001b[1;32m---> 16\u001b[0m     \u001b[38;5;28mprint\u001b[39m(\u001b[38;5;28;43mint\u001b[39;49m\u001b[43m(\u001b[49m\u001b[43ma\u001b[49m\u001b[43m)\u001b[49m\u001b[38;5;241m*\u001b[39m\u001b[38;5;28mint\u001b[39m(c))\n\u001b[0;32m     17\u001b[0m \u001b[38;5;28;01melif\u001b[39;00m b \u001b[38;5;241m==\u001b[39m \u001b[38;5;124m\"\u001b[39m\u001b[38;5;124m**\u001b[39m\u001b[38;5;124m\"\u001b[39m: \n\u001b[0;32m     18\u001b[0m     \u001b[38;5;28mprint\u001b[39m(\u001b[38;5;28mint\u001b[39m(a)\u001b[38;5;241m*\u001b[39m\u001b[38;5;241m*\u001b[39m\u001b[38;5;28mint\u001b[39m(c))\n",
      "\u001b[1;31mValueError\u001b[0m: invalid literal for int() with base 10: 'stop'"
     ]
    }
   ],
   "source": [
    "# create a calculator (it should run until we press c )\n",
    "x=0\n",
    "\n",
    "while x==0:\n",
    "    a=input(\"pls enter number :\")\n",
    "    b=input(\"mathematical operation ( +,-,/,*):\")\n",
    "    c=input(\"pls enter number :\")\n",
    "    \n",
    "    if b == \"+\": \n",
    "        print(int(a)+int(c))\n",
    "    elif b == \"-\": \n",
    "        print(int(a)-int(c))\n",
    "    elif b == \"/\": \n",
    "        print(int(a)/int(c))\n",
    "    elif b == \"*\": \n",
    "        print(int(a)*int(c))\n",
    "    elif b == \"**\": \n",
    "        print(int(a)**int(c))\n",
    "    elif b == \"stop\":\n",
    "        break"
   ]
  },
  {
   "cell_type": "code",
   "execution_count": null,
   "id": "d9f2ee3d",
   "metadata": {},
   "outputs": [],
   "source": []
  }
 ],
 "metadata": {
  "kernelspec": {
   "display_name": "Python 3 (ipykernel)",
   "language": "python",
   "name": "python3"
  },
  "language_info": {
   "codemirror_mode": {
    "name": "ipython",
    "version": 3
   },
   "file_extension": ".py",
   "mimetype": "text/x-python",
   "name": "python",
   "nbconvert_exporter": "python",
   "pygments_lexer": "ipython3",
   "version": "3.9.12"
  }
 },
 "nbformat": 4,
 "nbformat_minor": 5
}
